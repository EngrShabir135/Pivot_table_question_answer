{
 "cells": [
  {
   "cell_type": "code",
   "execution_count": 1,
   "id": "8bb56d5a",
   "metadata": {},
   "outputs": [],
   "source": [
    "import numpy as np\n",
    "import pandas as pd\n",
    "import seaborn as sns"
   ]
  },
  {
   "cell_type": "code",
   "execution_count": 2,
   "id": "5d93059d",
   "metadata": {},
   "outputs": [],
   "source": [
    "df=sns.load_dataset('tips')"
   ]
  },
  {
   "cell_type": "markdown",
   "id": "e485c84d",
   "metadata": {},
   "source": [
    "### 1. What is the average total_bill for each day and time?"
   ]
  },
  {
   "cell_type": "code",
   "execution_count": 4,
   "id": "9367c3d0",
   "metadata": {},
   "outputs": [
    {
     "data": {
      "text/html": [
       "<div>\n",
       "<style scoped>\n",
       "    .dataframe tbody tr th:only-of-type {\n",
       "        vertical-align: middle;\n",
       "    }\n",
       "\n",
       "    .dataframe tbody tr th {\n",
       "        vertical-align: top;\n",
       "    }\n",
       "\n",
       "    .dataframe thead th {\n",
       "        text-align: right;\n",
       "    }\n",
       "</style>\n",
       "<table border=\"1\" class=\"dataframe\">\n",
       "  <thead>\n",
       "    <tr style=\"text-align: right;\">\n",
       "      <th>day</th>\n",
       "      <th>Thur</th>\n",
       "      <th>Fri</th>\n",
       "      <th>Sat</th>\n",
       "      <th>Sun</th>\n",
       "    </tr>\n",
       "    <tr>\n",
       "      <th>time</th>\n",
       "      <th></th>\n",
       "      <th></th>\n",
       "      <th></th>\n",
       "      <th></th>\n",
       "    </tr>\n",
       "  </thead>\n",
       "  <tbody>\n",
       "    <tr>\n",
       "      <th>Lunch</th>\n",
       "      <td>17.664754</td>\n",
       "      <td>12.845714</td>\n",
       "      <td>0.000000</td>\n",
       "      <td>0.00</td>\n",
       "    </tr>\n",
       "    <tr>\n",
       "      <th>Dinner</th>\n",
       "      <td>18.780000</td>\n",
       "      <td>19.663333</td>\n",
       "      <td>20.441379</td>\n",
       "      <td>21.41</td>\n",
       "    </tr>\n",
       "  </tbody>\n",
       "</table>\n",
       "</div>"
      ],
      "text/plain": [
       "day          Thur        Fri        Sat    Sun\n",
       "time                                          \n",
       "Lunch   17.664754  12.845714   0.000000   0.00\n",
       "Dinner  18.780000  19.663333  20.441379  21.41"
      ]
     },
     "execution_count": 4,
     "metadata": {},
     "output_type": "execute_result"
    }
   ],
   "source": [
    "df.pivot_table(index='time',columns='day',values='total_bill',aggfunc='mean').fillna(0)"
   ]
  },
  {
   "cell_type": "markdown",
   "id": "26eefac4",
   "metadata": {},
   "source": [
    "### 2. What is the average tip given for each sex and smoker status?"
   ]
  },
  {
   "cell_type": "code",
   "execution_count": 5,
   "id": "923ed3b4",
   "metadata": {},
   "outputs": [
    {
     "data": {
      "text/html": [
       "<div>\n",
       "<style scoped>\n",
       "    .dataframe tbody tr th:only-of-type {\n",
       "        vertical-align: middle;\n",
       "    }\n",
       "\n",
       "    .dataframe tbody tr th {\n",
       "        vertical-align: top;\n",
       "    }\n",
       "\n",
       "    .dataframe thead th {\n",
       "        text-align: right;\n",
       "    }\n",
       "</style>\n",
       "<table border=\"1\" class=\"dataframe\">\n",
       "  <thead>\n",
       "    <tr style=\"text-align: right;\">\n",
       "      <th>smoker</th>\n",
       "      <th>Yes</th>\n",
       "      <th>No</th>\n",
       "    </tr>\n",
       "    <tr>\n",
       "      <th>sex</th>\n",
       "      <th></th>\n",
       "      <th></th>\n",
       "    </tr>\n",
       "  </thead>\n",
       "  <tbody>\n",
       "    <tr>\n",
       "      <th>Male</th>\n",
       "      <td>3.051167</td>\n",
       "      <td>3.113402</td>\n",
       "    </tr>\n",
       "    <tr>\n",
       "      <th>Female</th>\n",
       "      <td>2.931515</td>\n",
       "      <td>2.773519</td>\n",
       "    </tr>\n",
       "  </tbody>\n",
       "</table>\n",
       "</div>"
      ],
      "text/plain": [
       "smoker       Yes        No\n",
       "sex                       \n",
       "Male    3.051167  3.113402\n",
       "Female  2.931515  2.773519"
      ]
     },
     "execution_count": 5,
     "metadata": {},
     "output_type": "execute_result"
    }
   ],
   "source": [
    "df.pivot_table(index='sex',columns='smoker',values='tip',aggfunc='mean')"
   ]
  },
  {
   "cell_type": "markdown",
   "id": "2bde4a3c",
   "metadata": {},
   "source": [
    "### 3. How does the average total_bill change with party size across different days?"
   ]
  },
  {
   "cell_type": "code",
   "execution_count": 7,
   "id": "76f9c0ba",
   "metadata": {},
   "outputs": [
    {
     "data": {
      "text/html": [
       "<div>\n",
       "<style scoped>\n",
       "    .dataframe tbody tr th:only-of-type {\n",
       "        vertical-align: middle;\n",
       "    }\n",
       "\n",
       "    .dataframe tbody tr th {\n",
       "        vertical-align: top;\n",
       "    }\n",
       "\n",
       "    .dataframe thead th {\n",
       "        text-align: right;\n",
       "    }\n",
       "</style>\n",
       "<table border=\"1\" class=\"dataframe\">\n",
       "  <thead>\n",
       "    <tr style=\"text-align: right;\">\n",
       "      <th>size</th>\n",
       "      <th>1</th>\n",
       "      <th>2</th>\n",
       "      <th>3</th>\n",
       "      <th>4</th>\n",
       "      <th>5</th>\n",
       "      <th>6</th>\n",
       "    </tr>\n",
       "    <tr>\n",
       "      <th>day</th>\n",
       "      <th></th>\n",
       "      <th></th>\n",
       "      <th></th>\n",
       "      <th></th>\n",
       "      <th></th>\n",
       "      <th></th>\n",
       "    </tr>\n",
       "  </thead>\n",
       "  <tbody>\n",
       "    <tr>\n",
       "      <th>Thur</th>\n",
       "      <td>10.07</td>\n",
       "      <td>15.156875</td>\n",
       "      <td>19.160000</td>\n",
       "      <td>29.950000</td>\n",
       "      <td>41.19</td>\n",
       "      <td>30.383333</td>\n",
       "    </tr>\n",
       "    <tr>\n",
       "      <th>Fri</th>\n",
       "      <td>8.58</td>\n",
       "      <td>16.321875</td>\n",
       "      <td>15.980000</td>\n",
       "      <td>40.170000</td>\n",
       "      <td>0.00</td>\n",
       "      <td>0.000000</td>\n",
       "    </tr>\n",
       "    <tr>\n",
       "      <th>Sat</th>\n",
       "      <td>5.16</td>\n",
       "      <td>16.837170</td>\n",
       "      <td>25.509444</td>\n",
       "      <td>29.876154</td>\n",
       "      <td>28.15</td>\n",
       "      <td>0.000000</td>\n",
       "    </tr>\n",
       "    <tr>\n",
       "      <th>Sun</th>\n",
       "      <td>0.00</td>\n",
       "      <td>17.560000</td>\n",
       "      <td>22.184000</td>\n",
       "      <td>26.688333</td>\n",
       "      <td>27.00</td>\n",
       "      <td>48.170000</td>\n",
       "    </tr>\n",
       "  </tbody>\n",
       "</table>\n",
       "</div>"
      ],
      "text/plain": [
       "size      1          2          3          4      5          6\n",
       "day                                                           \n",
       "Thur  10.07  15.156875  19.160000  29.950000  41.19  30.383333\n",
       "Fri    8.58  16.321875  15.980000  40.170000   0.00   0.000000\n",
       "Sat    5.16  16.837170  25.509444  29.876154  28.15   0.000000\n",
       "Sun    0.00  17.560000  22.184000  26.688333  27.00  48.170000"
      ]
     },
     "execution_count": 7,
     "metadata": {},
     "output_type": "execute_result"
    }
   ],
   "source": [
    "df.pivot_table(index='day',columns='size',values='total_bill',aggfunc='mean').fillna(0)"
   ]
  },
  {
   "cell_type": "markdown",
   "id": "f00cd87b",
   "metadata": {},
   "source": [
    "### 4. What is the average tip for each time and size?"
   ]
  },
  {
   "cell_type": "code",
   "execution_count": 8,
   "id": "c686a4d7",
   "metadata": {},
   "outputs": [
    {
     "data": {
      "text/html": [
       "<div>\n",
       "<style scoped>\n",
       "    .dataframe tbody tr th:only-of-type {\n",
       "        vertical-align: middle;\n",
       "    }\n",
       "\n",
       "    .dataframe tbody tr th {\n",
       "        vertical-align: top;\n",
       "    }\n",
       "\n",
       "    .dataframe thead th {\n",
       "        text-align: right;\n",
       "    }\n",
       "</style>\n",
       "<table border=\"1\" class=\"dataframe\">\n",
       "  <thead>\n",
       "    <tr style=\"text-align: right;\">\n",
       "      <th>size</th>\n",
       "      <th>1</th>\n",
       "      <th>2</th>\n",
       "      <th>3</th>\n",
       "      <th>4</th>\n",
       "      <th>5</th>\n",
       "      <th>6</th>\n",
       "    </tr>\n",
       "    <tr>\n",
       "      <th>time</th>\n",
       "      <th></th>\n",
       "      <th></th>\n",
       "      <th></th>\n",
       "      <th></th>\n",
       "      <th></th>\n",
       "      <th></th>\n",
       "    </tr>\n",
       "  </thead>\n",
       "  <tbody>\n",
       "    <tr>\n",
       "      <th>Lunch</th>\n",
       "      <td>1.875</td>\n",
       "      <td>2.423077</td>\n",
       "      <td>2.754</td>\n",
       "      <td>4.2180</td>\n",
       "      <td>5.000</td>\n",
       "      <td>5.3</td>\n",
       "    </tr>\n",
       "    <tr>\n",
       "      <th>Dinner</th>\n",
       "      <td>1.000</td>\n",
       "      <td>2.661923</td>\n",
       "      <td>3.490</td>\n",
       "      <td>4.1225</td>\n",
       "      <td>3.785</td>\n",
       "      <td>5.0</td>\n",
       "    </tr>\n",
       "  </tbody>\n",
       "</table>\n",
       "</div>"
      ],
      "text/plain": [
       "size        1         2      3       4      5    6\n",
       "time                                              \n",
       "Lunch   1.875  2.423077  2.754  4.2180  5.000  5.3\n",
       "Dinner  1.000  2.661923  3.490  4.1225  3.785  5.0"
      ]
     },
     "execution_count": 8,
     "metadata": {},
     "output_type": "execute_result"
    }
   ],
   "source": [
    "df.pivot_table(index=\"time\",columns='size',values='tip',aggfunc='mean')"
   ]
  },
  {
   "cell_type": "markdown",
   "id": "9042d260",
   "metadata": {},
   "source": [
    "### 5. How does the average total_bill differ between males and females across times?"
   ]
  },
  {
   "cell_type": "code",
   "execution_count": 9,
   "id": "0030200a",
   "metadata": {},
   "outputs": [
    {
     "data": {
      "text/html": [
       "<div>\n",
       "<style scoped>\n",
       "    .dataframe tbody tr th:only-of-type {\n",
       "        vertical-align: middle;\n",
       "    }\n",
       "\n",
       "    .dataframe tbody tr th {\n",
       "        vertical-align: top;\n",
       "    }\n",
       "\n",
       "    .dataframe thead th {\n",
       "        text-align: right;\n",
       "    }\n",
       "</style>\n",
       "<table border=\"1\" class=\"dataframe\">\n",
       "  <thead>\n",
       "    <tr style=\"text-align: right;\">\n",
       "      <th>time</th>\n",
       "      <th>Lunch</th>\n",
       "      <th>Dinner</th>\n",
       "    </tr>\n",
       "    <tr>\n",
       "      <th>sex</th>\n",
       "      <th></th>\n",
       "      <th></th>\n",
       "    </tr>\n",
       "  </thead>\n",
       "  <tbody>\n",
       "    <tr>\n",
       "      <th>Male</th>\n",
       "      <td>18.048485</td>\n",
       "      <td>21.461452</td>\n",
       "    </tr>\n",
       "    <tr>\n",
       "      <th>Female</th>\n",
       "      <td>16.339143</td>\n",
       "      <td>19.213077</td>\n",
       "    </tr>\n",
       "  </tbody>\n",
       "</table>\n",
       "</div>"
      ],
      "text/plain": [
       "time        Lunch     Dinner\n",
       "sex                         \n",
       "Male    18.048485  21.461452\n",
       "Female  16.339143  19.213077"
      ]
     },
     "execution_count": 9,
     "metadata": {},
     "output_type": "execute_result"
    }
   ],
   "source": [
    "df.pivot_table(index='sex',columns='time',values='total_bill',aggfunc='mean')"
   ]
  },
  {
   "cell_type": "markdown",
   "id": "106400c4",
   "metadata": {},
   "source": [
    "### 6. What is the average tip by day and time for smokers versus non-smokers?"
   ]
  },
  {
   "cell_type": "code",
   "execution_count": 11,
   "id": "5dd38223",
   "metadata": {},
   "outputs": [
    {
     "data": {
      "text/html": [
       "<div>\n",
       "<style scoped>\n",
       "    .dataframe tbody tr th:only-of-type {\n",
       "        vertical-align: middle;\n",
       "    }\n",
       "\n",
       "    .dataframe tbody tr th {\n",
       "        vertical-align: top;\n",
       "    }\n",
       "\n",
       "    .dataframe thead th {\n",
       "        text-align: right;\n",
       "    }\n",
       "</style>\n",
       "<table border=\"1\" class=\"dataframe\">\n",
       "  <thead>\n",
       "    <tr style=\"text-align: right;\">\n",
       "      <th></th>\n",
       "      <th>smoker</th>\n",
       "      <th>Yes</th>\n",
       "      <th>No</th>\n",
       "    </tr>\n",
       "    <tr>\n",
       "      <th>day</th>\n",
       "      <th>time</th>\n",
       "      <th></th>\n",
       "      <th></th>\n",
       "    </tr>\n",
       "  </thead>\n",
       "  <tbody>\n",
       "    <tr>\n",
       "      <th rowspan=\"2\" valign=\"top\">Thur</th>\n",
       "      <th>Lunch</th>\n",
       "      <td>3.030000</td>\n",
       "      <td>2.666364</td>\n",
       "    </tr>\n",
       "    <tr>\n",
       "      <th>Dinner</th>\n",
       "      <td>0.000000</td>\n",
       "      <td>3.000000</td>\n",
       "    </tr>\n",
       "    <tr>\n",
       "      <th rowspan=\"2\" valign=\"top\">Fri</th>\n",
       "      <th>Lunch</th>\n",
       "      <td>2.280000</td>\n",
       "      <td>3.000000</td>\n",
       "    </tr>\n",
       "    <tr>\n",
       "      <th>Dinner</th>\n",
       "      <td>3.003333</td>\n",
       "      <td>2.750000</td>\n",
       "    </tr>\n",
       "    <tr>\n",
       "      <th>Sat</th>\n",
       "      <th>Dinner</th>\n",
       "      <td>2.875476</td>\n",
       "      <td>3.102889</td>\n",
       "    </tr>\n",
       "    <tr>\n",
       "      <th>Sun</th>\n",
       "      <th>Dinner</th>\n",
       "      <td>3.516842</td>\n",
       "      <td>3.167895</td>\n",
       "    </tr>\n",
       "  </tbody>\n",
       "</table>\n",
       "</div>"
      ],
      "text/plain": [
       "smoker            Yes        No\n",
       "day  time                      \n",
       "Thur Lunch   3.030000  2.666364\n",
       "     Dinner  0.000000  3.000000\n",
       "Fri  Lunch   2.280000  3.000000\n",
       "     Dinner  3.003333  2.750000\n",
       "Sat  Dinner  2.875476  3.102889\n",
       "Sun  Dinner  3.516842  3.167895"
      ]
     },
     "execution_count": 11,
     "metadata": {},
     "output_type": "execute_result"
    }
   ],
   "source": [
    "df.pivot_table(index=['day','time'],columns='smoker',values='tip',aggfunc='mean').fillna(0)"
   ]
  },
  {
   "cell_type": "markdown",
   "id": "c08b0587",
   "metadata": {},
   "source": [
    "### 7. What is the average total_bill for different days and sizes of parties?"
   ]
  },
  {
   "cell_type": "code",
   "execution_count": 13,
   "id": "317ac474",
   "metadata": {},
   "outputs": [
    {
     "data": {
      "text/html": [
       "<div>\n",
       "<style scoped>\n",
       "    .dataframe tbody tr th:only-of-type {\n",
       "        vertical-align: middle;\n",
       "    }\n",
       "\n",
       "    .dataframe tbody tr th {\n",
       "        vertical-align: top;\n",
       "    }\n",
       "\n",
       "    .dataframe thead th {\n",
       "        text-align: right;\n",
       "    }\n",
       "</style>\n",
       "<table border=\"1\" class=\"dataframe\">\n",
       "  <thead>\n",
       "    <tr style=\"text-align: right;\">\n",
       "      <th>size</th>\n",
       "      <th>1</th>\n",
       "      <th>2</th>\n",
       "      <th>3</th>\n",
       "      <th>4</th>\n",
       "      <th>5</th>\n",
       "      <th>6</th>\n",
       "    </tr>\n",
       "    <tr>\n",
       "      <th>day</th>\n",
       "      <th></th>\n",
       "      <th></th>\n",
       "      <th></th>\n",
       "      <th></th>\n",
       "      <th></th>\n",
       "      <th></th>\n",
       "    </tr>\n",
       "  </thead>\n",
       "  <tbody>\n",
       "    <tr>\n",
       "      <th>Thur</th>\n",
       "      <td>10.07</td>\n",
       "      <td>15.156875</td>\n",
       "      <td>19.160000</td>\n",
       "      <td>29.950000</td>\n",
       "      <td>41.19</td>\n",
       "      <td>30.383333</td>\n",
       "    </tr>\n",
       "    <tr>\n",
       "      <th>Fri</th>\n",
       "      <td>8.58</td>\n",
       "      <td>16.321875</td>\n",
       "      <td>15.980000</td>\n",
       "      <td>40.170000</td>\n",
       "      <td>0.00</td>\n",
       "      <td>0.000000</td>\n",
       "    </tr>\n",
       "    <tr>\n",
       "      <th>Sat</th>\n",
       "      <td>5.16</td>\n",
       "      <td>16.837170</td>\n",
       "      <td>25.509444</td>\n",
       "      <td>29.876154</td>\n",
       "      <td>28.15</td>\n",
       "      <td>0.000000</td>\n",
       "    </tr>\n",
       "    <tr>\n",
       "      <th>Sun</th>\n",
       "      <td>0.00</td>\n",
       "      <td>17.560000</td>\n",
       "      <td>22.184000</td>\n",
       "      <td>26.688333</td>\n",
       "      <td>27.00</td>\n",
       "      <td>48.170000</td>\n",
       "    </tr>\n",
       "  </tbody>\n",
       "</table>\n",
       "</div>"
      ],
      "text/plain": [
       "size      1          2          3          4      5          6\n",
       "day                                                           \n",
       "Thur  10.07  15.156875  19.160000  29.950000  41.19  30.383333\n",
       "Fri    8.58  16.321875  15.980000  40.170000   0.00   0.000000\n",
       "Sat    5.16  16.837170  25.509444  29.876154  28.15   0.000000\n",
       "Sun    0.00  17.560000  22.184000  26.688333  27.00  48.170000"
      ]
     },
     "execution_count": 13,
     "metadata": {},
     "output_type": "execute_result"
    }
   ],
   "source": [
    "df.pivot_table(index='day',columns='size',values='total_bill',aggfunc='mean').fillna(0)"
   ]
  },
  {
   "cell_type": "markdown",
   "id": "78ccca51",
   "metadata": {},
   "source": [
    "### 8. How does the average tip differ between smokers and non-smokers across different sizes of parties?"
   ]
  },
  {
   "cell_type": "code",
   "execution_count": 15,
   "id": "5adb1d10",
   "metadata": {},
   "outputs": [
    {
     "data": {
      "text/html": [
       "<div>\n",
       "<style scoped>\n",
       "    .dataframe tbody tr th:only-of-type {\n",
       "        vertical-align: middle;\n",
       "    }\n",
       "\n",
       "    .dataframe tbody tr th {\n",
       "        vertical-align: top;\n",
       "    }\n",
       "\n",
       "    .dataframe thead th {\n",
       "        text-align: right;\n",
       "    }\n",
       "</style>\n",
       "<table border=\"1\" class=\"dataframe\">\n",
       "  <thead>\n",
       "    <tr style=\"text-align: right;\">\n",
       "      <th>size</th>\n",
       "      <th>1</th>\n",
       "      <th>2</th>\n",
       "      <th>3</th>\n",
       "      <th>4</th>\n",
       "      <th>5</th>\n",
       "      <th>6</th>\n",
       "    </tr>\n",
       "    <tr>\n",
       "      <th>smoker</th>\n",
       "      <th></th>\n",
       "      <th></th>\n",
       "      <th></th>\n",
       "      <th></th>\n",
       "      <th></th>\n",
       "      <th></th>\n",
       "    </tr>\n",
       "  </thead>\n",
       "  <tbody>\n",
       "    <tr>\n",
       "      <th>Yes</th>\n",
       "      <td>1.460</td>\n",
       "      <td>2.709545</td>\n",
       "      <td>4.095000</td>\n",
       "      <td>3.992727</td>\n",
       "      <td>2.500000</td>\n",
       "      <td>0.000</td>\n",
       "    </tr>\n",
       "    <tr>\n",
       "      <th>No</th>\n",
       "      <td>1.415</td>\n",
       "      <td>2.489000</td>\n",
       "      <td>3.069231</td>\n",
       "      <td>4.195769</td>\n",
       "      <td>5.046667</td>\n",
       "      <td>5.225</td>\n",
       "    </tr>\n",
       "  </tbody>\n",
       "</table>\n",
       "</div>"
      ],
      "text/plain": [
       "size        1         2         3         4         5      6\n",
       "smoker                                                      \n",
       "Yes     1.460  2.709545  4.095000  3.992727  2.500000  0.000\n",
       "No      1.415  2.489000  3.069231  4.195769  5.046667  5.225"
      ]
     },
     "execution_count": 15,
     "metadata": {},
     "output_type": "execute_result"
    }
   ],
   "source": [
    "df.pivot_table(index='smoker',columns='size',values='tip',aggfunc='mean').fillna(0)"
   ]
  },
  {
   "cell_type": "markdown",
   "id": "7ccb565f",
   "metadata": {},
   "source": [
    "### 9. What is the average total_bill by day and time for different sizes of parties?"
   ]
  },
  {
   "cell_type": "code",
   "execution_count": 17,
   "id": "1ef162c4",
   "metadata": {},
   "outputs": [
    {
     "data": {
      "text/html": [
       "<div>\n",
       "<style scoped>\n",
       "    .dataframe tbody tr th:only-of-type {\n",
       "        vertical-align: middle;\n",
       "    }\n",
       "\n",
       "    .dataframe tbody tr th {\n",
       "        vertical-align: top;\n",
       "    }\n",
       "\n",
       "    .dataframe thead th {\n",
       "        text-align: right;\n",
       "    }\n",
       "</style>\n",
       "<table border=\"1\" class=\"dataframe\">\n",
       "  <thead>\n",
       "    <tr style=\"text-align: right;\">\n",
       "      <th></th>\n",
       "      <th>size</th>\n",
       "      <th>1</th>\n",
       "      <th>2</th>\n",
       "      <th>3</th>\n",
       "      <th>4</th>\n",
       "      <th>5</th>\n",
       "      <th>6</th>\n",
       "    </tr>\n",
       "    <tr>\n",
       "      <th>day</th>\n",
       "      <th>time</th>\n",
       "      <th></th>\n",
       "      <th></th>\n",
       "      <th></th>\n",
       "      <th></th>\n",
       "      <th></th>\n",
       "      <th></th>\n",
       "    </tr>\n",
       "  </thead>\n",
       "  <tbody>\n",
       "    <tr>\n",
       "      <th rowspan=\"2\" valign=\"top\">Thur</th>\n",
       "      <th>Lunch</th>\n",
       "      <td>10.07</td>\n",
       "      <td>15.079787</td>\n",
       "      <td>19.160000</td>\n",
       "      <td>29.950000</td>\n",
       "      <td>41.19</td>\n",
       "      <td>30.383333</td>\n",
       "    </tr>\n",
       "    <tr>\n",
       "      <th>Dinner</th>\n",
       "      <td>0.00</td>\n",
       "      <td>18.780000</td>\n",
       "      <td>0.000000</td>\n",
       "      <td>0.000000</td>\n",
       "      <td>0.00</td>\n",
       "      <td>0.000000</td>\n",
       "    </tr>\n",
       "    <tr>\n",
       "      <th rowspan=\"2\" valign=\"top\">Fri</th>\n",
       "      <th>Lunch</th>\n",
       "      <td>8.58</td>\n",
       "      <td>13.072000</td>\n",
       "      <td>15.980000</td>\n",
       "      <td>0.000000</td>\n",
       "      <td>0.00</td>\n",
       "      <td>0.000000</td>\n",
       "    </tr>\n",
       "    <tr>\n",
       "      <th>Dinner</th>\n",
       "      <td>0.00</td>\n",
       "      <td>17.799091</td>\n",
       "      <td>0.000000</td>\n",
       "      <td>40.170000</td>\n",
       "      <td>0.00</td>\n",
       "      <td>0.000000</td>\n",
       "    </tr>\n",
       "    <tr>\n",
       "      <th>Sat</th>\n",
       "      <th>Dinner</th>\n",
       "      <td>5.16</td>\n",
       "      <td>16.837170</td>\n",
       "      <td>25.509444</td>\n",
       "      <td>29.876154</td>\n",
       "      <td>28.15</td>\n",
       "      <td>0.000000</td>\n",
       "    </tr>\n",
       "    <tr>\n",
       "      <th>Sun</th>\n",
       "      <th>Dinner</th>\n",
       "      <td>0.00</td>\n",
       "      <td>17.560000</td>\n",
       "      <td>22.184000</td>\n",
       "      <td>26.688333</td>\n",
       "      <td>27.00</td>\n",
       "      <td>48.170000</td>\n",
       "    </tr>\n",
       "  </tbody>\n",
       "</table>\n",
       "</div>"
      ],
      "text/plain": [
       "size             1          2          3          4      5          6\n",
       "day  time                                                            \n",
       "Thur Lunch   10.07  15.079787  19.160000  29.950000  41.19  30.383333\n",
       "     Dinner   0.00  18.780000   0.000000   0.000000   0.00   0.000000\n",
       "Fri  Lunch    8.58  13.072000  15.980000   0.000000   0.00   0.000000\n",
       "     Dinner   0.00  17.799091   0.000000  40.170000   0.00   0.000000\n",
       "Sat  Dinner   5.16  16.837170  25.509444  29.876154  28.15   0.000000\n",
       "Sun  Dinner   0.00  17.560000  22.184000  26.688333  27.00  48.170000"
      ]
     },
     "execution_count": 17,
     "metadata": {},
     "output_type": "execute_result"
    }
   ],
   "source": [
    "df.pivot_table(index=['day','time'],columns='size',values='total_bill',aggfunc='mean').fillna(0)"
   ]
  },
  {
   "cell_type": "markdown",
   "id": "08e7d177",
   "metadata": {},
   "source": [
    "### 10. What is the average tip given by sex and day?"
   ]
  },
  {
   "cell_type": "code",
   "execution_count": 18,
   "id": "3f841f55",
   "metadata": {},
   "outputs": [
    {
     "data": {
      "text/html": [
       "<div>\n",
       "<style scoped>\n",
       "    .dataframe tbody tr th:only-of-type {\n",
       "        vertical-align: middle;\n",
       "    }\n",
       "\n",
       "    .dataframe tbody tr th {\n",
       "        vertical-align: top;\n",
       "    }\n",
       "\n",
       "    .dataframe thead th {\n",
       "        text-align: right;\n",
       "    }\n",
       "</style>\n",
       "<table border=\"1\" class=\"dataframe\">\n",
       "  <thead>\n",
       "    <tr style=\"text-align: right;\">\n",
       "      <th>day</th>\n",
       "      <th>Thur</th>\n",
       "      <th>Fri</th>\n",
       "      <th>Sat</th>\n",
       "      <th>Sun</th>\n",
       "    </tr>\n",
       "    <tr>\n",
       "      <th>sex</th>\n",
       "      <th></th>\n",
       "      <th></th>\n",
       "      <th></th>\n",
       "      <th></th>\n",
       "    </tr>\n",
       "  </thead>\n",
       "  <tbody>\n",
       "    <tr>\n",
       "      <th>Male</th>\n",
       "      <td>2.980333</td>\n",
       "      <td>2.693000</td>\n",
       "      <td>3.083898</td>\n",
       "      <td>3.220345</td>\n",
       "    </tr>\n",
       "    <tr>\n",
       "      <th>Female</th>\n",
       "      <td>2.575625</td>\n",
       "      <td>2.781111</td>\n",
       "      <td>2.801786</td>\n",
       "      <td>3.367222</td>\n",
       "    </tr>\n",
       "  </tbody>\n",
       "</table>\n",
       "</div>"
      ],
      "text/plain": [
       "day         Thur       Fri       Sat       Sun\n",
       "sex                                           \n",
       "Male    2.980333  2.693000  3.083898  3.220345\n",
       "Female  2.575625  2.781111  2.801786  3.367222"
      ]
     },
     "execution_count": 18,
     "metadata": {},
     "output_type": "execute_result"
    }
   ],
   "source": [
    "df.pivot_table(index='sex',columns='day',values='tip',aggfunc='mean')"
   ]
  },
  {
   "cell_type": "code",
   "execution_count": null,
   "id": "72184bae",
   "metadata": {},
   "outputs": [],
   "source": []
  }
 ],
 "metadata": {
  "kernelspec": {
   "display_name": "Python 3 (ipykernel)",
   "language": "python",
   "name": "python3"
  },
  "language_info": {
   "codemirror_mode": {
    "name": "ipython",
    "version": 3
   },
   "file_extension": ".py",
   "mimetype": "text/x-python",
   "name": "python",
   "nbconvert_exporter": "python",
   "pygments_lexer": "ipython3",
   "version": "3.9.13"
  }
 },
 "nbformat": 4,
 "nbformat_minor": 5
}
